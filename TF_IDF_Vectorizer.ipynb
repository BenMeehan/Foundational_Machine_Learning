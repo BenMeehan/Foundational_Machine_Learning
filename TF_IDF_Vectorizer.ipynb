{
  "nbformat": 4,
  "nbformat_minor": 0,
  "metadata": {
    "colab": {
      "name": "TF-IDF Vectorizer.ipynb",
      "provenance": [],
      "collapsed_sections": [],
      "authorship_tag": "ABX9TyNoMD7IbPe68HRL4CRUhd8C",
      "include_colab_link": true
    },
    "kernelspec": {
      "name": "python3",
      "display_name": "Python 3"
    },
    "language_info": {
      "name": "python"
    }
  },
  "cells": [
    {
      "cell_type": "markdown",
      "metadata": {
        "id": "view-in-github",
        "colab_type": "text"
      },
      "source": [
        "<a href=\"https://colab.research.google.com/github/BenMeehan/Foundational_Machine_Learning/blob/main/TF_IDF_Vectorizer.ipynb\" target=\"_parent\"><img src=\"https://colab.research.google.com/assets/colab-badge.svg\" alt=\"Open In Colab\"/></a>"
      ]
    },
    {
      "cell_type": "markdown",
      "source": [
        "https://www.appliedaicourse.com/\n",
        "# **TF-IDF Vectorizer Implementation**\n",
        "\n",
        "TF-IDF (term frequency-inverse document frequency) is a statistical measure that evaluates how relevant a word is to a document in a collection of documents.\n",
        "\n",
        "This is done by multiplying two metrics: how many times a word appears in a document, and the inverse document frequency of the word across a set of documents.\n",
        "\n",
        "It has many uses, most importantly in automated text analysis, and is very useful for scoring words in machine learning algorithms for Natural Language Processing (NLP)."
      ],
      "metadata": {
        "id": "F_5N341cVxyJ"
      }
    },
    {
      "cell_type": "markdown",
      "source": [
        "**Sample Text Corpus for testing**"
      ],
      "metadata": {
        "id": "wt7j5hjsWKnP"
      }
    },
    {
      "cell_type": "code",
      "execution_count": 1,
      "metadata": {
        "id": "vkxFm4Sk3dDR"
      },
      "outputs": [],
      "source": [
        "corpus = [\n",
        "     'this is the first document',\n",
        "     'this document is the second document',\n",
        "     'and this is the third one',\n",
        "     'is this the first document',\n",
        "]"
      ]
    },
    {
      "cell_type": "markdown",
      "source": [
        "**Generating a dictionary with all the relevant words**"
      ],
      "metadata": {
        "id": "ZI_YAmuGWPvF"
      }
    },
    {
      "cell_type": "code",
      "source": [
        "from collections import Counter\n",
        "\n",
        "vocabulary=set()\n",
        "for doc in corpus:\n",
        "  for word in doc.split(\" \"):\n",
        "    if len(word)<2:\n",
        "      continue \n",
        "    vocabulary.add(word)\n",
        "\n",
        "vocabulary=sorted(list(vocabulary))\n",
        "vocabulary={j:i for i,j in enumerate(vocabulary)}\n",
        "vocabulary   #Feature Names"
      ],
      "metadata": {
        "colab": {
          "base_uri": "https://localhost:8080/"
        },
        "id": "7iTtz1jCAKfp",
        "outputId": "c52c576f-6285-41af-86fb-ea7c23927c91"
      },
      "execution_count": 18,
      "outputs": [
        {
          "output_type": "execute_result",
          "data": {
            "text/plain": [
              "{'and': 0,\n",
              " 'document': 1,\n",
              " 'first': 2,\n",
              " 'is': 3,\n",
              " 'one': 4,\n",
              " 'second': 5,\n",
              " 'the': 6,\n",
              " 'third': 7,\n",
              " 'this': 8}"
            ]
          },
          "metadata": {},
          "execution_count": 18
        }
      ]
    },
    {
      "cell_type": "markdown",
      "source": [
        "**Calculating the term frequency for each word in a sentence**\n",
        " \n",
        "The term frequency is the number of times a word occurs in a given sentence divided by the total number of words in that sentence.\n",
        "\n",
        "*The result is stored in a sparse CSR matrix*\n",
        "https://docs.scipy.org/doc/scipy/reference/generated/scipy.sparse.csr_matrix.html#scipy.sparse.csr_matrix"
      ],
      "metadata": {
        "id": "9JKVbP7XWcgg"
      }
    },
    {
      "cell_type": "code",
      "source": [
        "from scipy.sparse import csr_matrix\n",
        "def tf(corpus):\n",
        "  tf=[[0 for i in range(len(vocabulary))] for i in range(len(corpus))]\n",
        "  row=[]\n",
        "  col=[]\n",
        "  values=[]\n",
        "  for idx,doc in enumerate(corpus):\n",
        "    word_freq=dict(Counter(doc.split(\" \")))\n",
        "    for word,freq in word_freq.items():\n",
        "      if len(word)>=2:\n",
        "        values.append(freq/len(doc.split(\" \")))\n",
        "        row.append(idx)\n",
        "        col.append(vocabulary[word])\n",
        "  return csr_matrix((values,(row,col)),shape=(len(corpus),len(vocabulary)))\n",
        "\n",
        "term_freq=tf(corpus)"
      ],
      "metadata": {
        "id": "-cvANlkUB9uf"
      },
      "execution_count": 48,
      "outputs": []
    },
    {
      "cell_type": "markdown",
      "source": [
        "**Calculating the Inverse Document Frequency**\n",
        "\n",
        "Inverse Document Frequency of a word is the total number of sentences divided by the number of sentences that contain the word.\n",
        "\n",
        "1 is added to the calcuation to prevent division by zero error (This occurs if no document contains the word)\n",
        "\n",
        "The IDF is calculated for each term in the dictionary and the result is stored in a numpy array."
      ],
      "metadata": {
        "id": "AiwN2ng9W1Qx"
      }
    },
    {
      "cell_type": "code",
      "source": [
        "import math\n",
        "import numpy as np\n",
        "def idf(corpus):\n",
        "  idf_val=np.empty(len(vocabulary))\n",
        "  for word,idx in vocabulary.items():\n",
        "    counter=0 \n",
        "    for doc in corpus:\n",
        "      if word in doc:\n",
        "        counter+=1;\n",
        "    x=1+math.log((1+len(corpus))/(1+counter))\n",
        "    idf_val[idx]=x\n",
        "  return idf_val \n",
        "\n",
        "inverse_doc=idf(corpus)"
      ],
      "metadata": {
        "id": "PzGrTgxcCVSa"
      },
      "execution_count": 49,
      "outputs": []
    },
    {
      "cell_type": "code",
      "source": [
        "arr_tf=term_freq.toarray()"
      ],
      "metadata": {
        "id": "MLSnFCO7OJUt"
      },
      "execution_count": 53,
      "outputs": []
    },
    {
      "cell_type": "code",
      "source": [
        "arr_tf"
      ],
      "metadata": {
        "colab": {
          "base_uri": "https://localhost:8080/"
        },
        "id": "MBn91TrxQwUx",
        "outputId": "06ab5cd4-a333-4e48-c659-e675c1c82130"
      },
      "execution_count": 60,
      "outputs": [
        {
          "output_type": "execute_result",
          "data": {
            "text/plain": [
              "array([[0.        , 0.2       , 0.2       , 0.2       , 0.        ,\n",
              "        0.        , 0.2       , 0.        , 0.2       ],\n",
              "       [0.        , 0.33333333, 0.        , 0.16666667, 0.        ,\n",
              "        0.16666667, 0.16666667, 0.        , 0.16666667],\n",
              "       [0.16666667, 0.        , 0.        , 0.16666667, 0.16666667,\n",
              "        0.        , 0.16666667, 0.16666667, 0.16666667],\n",
              "       [0.        , 0.2       , 0.2       , 0.2       , 0.        ,\n",
              "        0.        , 0.2       , 0.        , 0.2       ]])"
            ]
          },
          "metadata": {},
          "execution_count": 60
        }
      ]
    },
    {
      "cell_type": "markdown",
      "source": [
        "**Calculating TF-IDF and Normalizing the values**\n",
        "\n",
        "Finally the TF-IDF values are found through matrix multiplication of IDF and TF values."
      ],
      "metadata": {
        "id": "PwWu6-K-XSqH"
      }
    },
    {
      "cell_type": "code",
      "source": [
        "from sklearn.preprocessing import normalize\n",
        "tf_idf=normalize(arr_tf*inverse_doc)"
      ],
      "metadata": {
        "id": "uVnU5isjSAhS"
      },
      "execution_count": 65,
      "outputs": []
    },
    {
      "cell_type": "code",
      "source": [
        "print(csr_matrix(tf_idf))"
      ],
      "metadata": {
        "colab": {
          "base_uri": "https://localhost:8080/"
        },
        "id": "8347eHbKSLoi",
        "outputId": "149ac291-4763-423a-8b2c-4aee39c5bd2a"
      },
      "execution_count": 69,
      "outputs": [
        {
          "output_type": "stream",
          "name": "stdout",
          "text": [
            "  (0, 1)\t0.4697913855799205\n",
            "  (0, 2)\t0.580285823684436\n",
            "  (0, 3)\t0.3840852409148149\n",
            "  (0, 6)\t0.3840852409148149\n",
            "  (0, 8)\t0.3840852409148149\n",
            "  (1, 1)\t0.6876235979836937\n",
            "  (1, 3)\t0.2810886740337529\n",
            "  (1, 5)\t0.5386476208856762\n",
            "  (1, 6)\t0.2810886740337529\n",
            "  (1, 8)\t0.2810886740337529\n",
            "  (2, 0)\t0.511848512707169\n",
            "  (2, 3)\t0.267103787642168\n",
            "  (2, 4)\t0.511848512707169\n",
            "  (2, 6)\t0.267103787642168\n",
            "  (2, 7)\t0.511848512707169\n",
            "  (2, 8)\t0.267103787642168\n",
            "  (3, 1)\t0.4697913855799205\n",
            "  (3, 2)\t0.580285823684436\n",
            "  (3, 3)\t0.3840852409148149\n",
            "  (3, 6)\t0.3840852409148149\n",
            "  (3, 8)\t0.3840852409148149\n"
          ]
        }
      ]
    },
    {
      "cell_type": "markdown",
      "source": [
        "<h1>Conclusion</h1>\n",
        "\n",
        "**This result can be used to answer questions like**\n",
        "\n",
        "eg : *How relevant is the word first to sentence 1?*\n",
        "\n",
        "since the word *first* is at position 2 in dictionary and its TF-IDF values can be seen in position (0, 2) as 0.58 which indicates that it is **very relevant!**"
      ],
      "metadata": {
        "id": "99UGWrRjYg4-"
      }
    },
    {
      "cell_type": "markdown",
      "source": [
        "\n",
        "\n",
        "---\n",
        "\n",
        "# **Implementation using Scikit Learn**\n",
        "\n",
        "Everything after this is to prove the correctness of the above implementation using pre-built libraries like Scikit learn.\n"
      ],
      "metadata": {
        "id": "X9tKvH3JZmtt"
      }
    },
    {
      "cell_type": "code",
      "source": [
        "from sklearn.feature_extraction.text import TfidfVectorizer\n",
        "vectorizer = TfidfVectorizer()\n",
        "vectorizer.fit(corpus)\n",
        "skl_output = vectorizer.transform(corpus)"
      ],
      "metadata": {
        "id": "2DFOmFn3VVLx"
      },
      "execution_count": 70,
      "outputs": []
    },
    {
      "cell_type": "code",
      "source": [
        "print(vectorizer.get_feature_names())"
      ],
      "metadata": {
        "colab": {
          "base_uri": "https://localhost:8080/"
        },
        "id": "dR6qoiaoaCh8",
        "outputId": "250b56b8-f867-4164-8a9a-d51cb15f26ea"
      },
      "execution_count": 71,
      "outputs": [
        {
          "output_type": "stream",
          "name": "stdout",
          "text": [
            "['and', 'document', 'first', 'is', 'one', 'second', 'the', 'third', 'this']\n"
          ]
        },
        {
          "output_type": "stream",
          "name": "stderr",
          "text": [
            "/usr/local/lib/python3.7/dist-packages/sklearn/utils/deprecation.py:87: FutureWarning: Function get_feature_names is deprecated; get_feature_names is deprecated in 1.0 and will be removed in 1.2. Please use get_feature_names_out instead.\n",
            "  warnings.warn(msg, category=FutureWarning)\n"
          ]
        }
      ]
    },
    {
      "cell_type": "code",
      "source": [
        "print(vectorizer.idf_)"
      ],
      "metadata": {
        "colab": {
          "base_uri": "https://localhost:8080/"
        },
        "id": "6svkmF46aDQ8",
        "outputId": "faf2a24d-e05d-4432-9f52-ca07caa08d56"
      },
      "execution_count": 72,
      "outputs": [
        {
          "output_type": "stream",
          "name": "stdout",
          "text": [
            "[1.91629073 1.22314355 1.51082562 1.         1.91629073 1.91629073\n",
            " 1.         1.91629073 1.        ]\n"
          ]
        }
      ]
    },
    {
      "cell_type": "code",
      "source": [
        "print(skl_output)"
      ],
      "metadata": {
        "colab": {
          "base_uri": "https://localhost:8080/"
        },
        "id": "P2DvcnmGaFoA",
        "outputId": "11693174-16fe-4e4f-f015-87185c15a2fd"
      },
      "execution_count": 73,
      "outputs": [
        {
          "output_type": "stream",
          "name": "stdout",
          "text": [
            "  (0, 8)\t0.38408524091481483\n",
            "  (0, 6)\t0.38408524091481483\n",
            "  (0, 3)\t0.38408524091481483\n",
            "  (0, 2)\t0.5802858236844359\n",
            "  (0, 1)\t0.46979138557992045\n",
            "  (1, 8)\t0.281088674033753\n",
            "  (1, 6)\t0.281088674033753\n",
            "  (1, 5)\t0.5386476208856763\n",
            "  (1, 3)\t0.281088674033753\n",
            "  (1, 1)\t0.6876235979836938\n",
            "  (2, 8)\t0.267103787642168\n",
            "  (2, 7)\t0.511848512707169\n",
            "  (2, 6)\t0.267103787642168\n",
            "  (2, 4)\t0.511848512707169\n",
            "  (2, 3)\t0.267103787642168\n",
            "  (2, 0)\t0.511848512707169\n",
            "  (3, 8)\t0.38408524091481483\n",
            "  (3, 6)\t0.38408524091481483\n",
            "  (3, 3)\t0.38408524091481483\n",
            "  (3, 2)\t0.5802858236844359\n",
            "  (3, 1)\t0.46979138557992045\n"
          ]
        }
      ]
    },
    {
      "cell_type": "code",
      "source": [
        ""
      ],
      "metadata": {
        "id": "8Jh7YXhfaWss"
      },
      "execution_count": null,
      "outputs": []
    }
  ]
}