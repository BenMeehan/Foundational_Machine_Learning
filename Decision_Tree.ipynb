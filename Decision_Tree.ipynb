{
  "nbformat": 4,
  "nbformat_minor": 0,
  "metadata": {
    "colab": {
      "name": "decision tree.ipynb",
      "provenance": [],
      "collapsed_sections": [],
      "authorship_tag": "ABX9TyP86Ix86YXaIgVYBROVSqG5",
      "include_colab_link": true
    },
    "kernelspec": {
      "name": "python3",
      "display_name": "Python 3"
    },
    "language_info": {
      "name": "python"
    }
  },
  "cells": [
    {
      "cell_type": "markdown",
      "metadata": {
        "id": "view-in-github",
        "colab_type": "text"
      },
      "source": [
        "<a href=\"https://colab.research.google.com/github/BenMeehan/Foundational_Machine_Learning/blob/main/Decision_Tree.ipynb\" target=\"_parent\"><img src=\"https://colab.research.google.com/assets/colab-badge.svg\" alt=\"Open In Colab\"/></a>"
      ]
    },
    {
      "cell_type": "code",
      "source": [
        "import numpy as np\n",
        "import pandas as pd"
      ],
      "metadata": {
        "id": "r4aUdGXRk9U4"
      },
      "execution_count": 4,
      "outputs": []
    },
    {
      "cell_type": "code",
      "execution_count": 126,
      "metadata": {
        "id": "Upk6dTGNiyXz"
      },
      "outputs": [],
      "source": [
        "class Node:\n",
        "  def __init__(self):\n",
        "    self.feature=None\n",
        "    self.isLeaf=None\n",
        "    self.value=None\n",
        "    self.children={}\n",
        "\n",
        "\n",
        "def accuracy(x):\n",
        "  counts = x['y'].value_counts()\n",
        "  m=counts.max()\n",
        "  return m/len(x)\n",
        "\n",
        "def getMajority(x):\n",
        "  m=x['y'].mode()\n",
        "  return m[0]\n",
        "\n",
        "def buildTree(x,features):\n",
        "  if len(features)==0:\n",
        "    nnode=Node()\n",
        "    v=getMajority(x)\n",
        "    nnode.isLeaf=True\n",
        "    nnode.value=v\n",
        "    return nnode\n",
        "\n",
        "  n=len(x)\n",
        "  counts = x['y'].value_counts()\n",
        "\n",
        "  for i in counts:\n",
        "    if i==n:\n",
        "      nnode=Node()\n",
        "      nnode.isLeaf=True\n",
        "      nnode.value=x['y'][0]\n",
        "      return nnode\n",
        "  \n",
        "\n",
        "  root=Node()\n",
        "  bestFeature=0\n",
        "  acc=0\n",
        "  for col in x:\n",
        "    if col=='y':\n",
        "      break\n",
        "    temp_acc=0\n",
        "    unique=x[col].unique()\n",
        "\n",
        "    for i in unique:\n",
        "      vals=x[x[col]==i]\n",
        "      temp_acc=accuracy(vals)\n",
        "      if temp_acc>acc:\n",
        "        acc=temp_acc\n",
        "        bestFeature=col \n",
        "  \n",
        "  unique=x[bestFeature].unique()\n",
        "  root.feature=bestFeature\n",
        "  root.isLeaf=False\n",
        "  for i in unique:\n",
        "    tfea=features.copy()\n",
        "    tfea.remove(bestFeature)\n",
        "    vals=x[x[bestFeature]==i]\n",
        "    root.children[i]=buildTree(vals,tfea)\n",
        "  \n",
        "  return root"
      ]
    },
    {
      "cell_type": "code",
      "source": [
        "x=pd.DataFrame([[0,0,0],[0,1,0],[1,0,0],[1,1,1]])   # AND GATE\n",
        "x.columns=['x1','x2','y']"
      ],
      "metadata": {
        "id": "bejlvodio1HL"
      },
      "execution_count": 122,
      "outputs": []
    },
    {
      "cell_type": "code",
      "source": [
        "x"
      ],
      "metadata": {
        "colab": {
          "base_uri": "https://localhost:8080/",
          "height": 174
        },
        "id": "fRrgvnFBo9-3",
        "outputId": "09ed914c-2dee-4157-83bf-d4f9a7835781"
      },
      "execution_count": 92,
      "outputs": [
        {
          "output_type": "execute_result",
          "data": {
            "text/html": [
              "\n",
              "  <div id=\"df-d9ff6e8c-76ef-473b-831b-de1f06bc8aed\">\n",
              "    <div class=\"colab-df-container\">\n",
              "      <div>\n",
              "<style scoped>\n",
              "    .dataframe tbody tr th:only-of-type {\n",
              "        vertical-align: middle;\n",
              "    }\n",
              "\n",
              "    .dataframe tbody tr th {\n",
              "        vertical-align: top;\n",
              "    }\n",
              "\n",
              "    .dataframe thead th {\n",
              "        text-align: right;\n",
              "    }\n",
              "</style>\n",
              "<table border=\"1\" class=\"dataframe\">\n",
              "  <thead>\n",
              "    <tr style=\"text-align: right;\">\n",
              "      <th></th>\n",
              "      <th>x1</th>\n",
              "      <th>x2</th>\n",
              "      <th>y</th>\n",
              "    </tr>\n",
              "  </thead>\n",
              "  <tbody>\n",
              "    <tr>\n",
              "      <th>0</th>\n",
              "      <td>0</td>\n",
              "      <td>0</td>\n",
              "      <td>0</td>\n",
              "    </tr>\n",
              "    <tr>\n",
              "      <th>1</th>\n",
              "      <td>0</td>\n",
              "      <td>1</td>\n",
              "      <td>1</td>\n",
              "    </tr>\n",
              "    <tr>\n",
              "      <th>2</th>\n",
              "      <td>1</td>\n",
              "      <td>0</td>\n",
              "      <td>1</td>\n",
              "    </tr>\n",
              "    <tr>\n",
              "      <th>3</th>\n",
              "      <td>1</td>\n",
              "      <td>1</td>\n",
              "      <td>0</td>\n",
              "    </tr>\n",
              "  </tbody>\n",
              "</table>\n",
              "</div>\n",
              "      <button class=\"colab-df-convert\" onclick=\"convertToInteractive('df-d9ff6e8c-76ef-473b-831b-de1f06bc8aed')\"\n",
              "              title=\"Convert this dataframe to an interactive table.\"\n",
              "              style=\"display:none;\">\n",
              "        \n",
              "  <svg xmlns=\"http://www.w3.org/2000/svg\" height=\"24px\"viewBox=\"0 0 24 24\"\n",
              "       width=\"24px\">\n",
              "    <path d=\"M0 0h24v24H0V0z\" fill=\"none\"/>\n",
              "    <path d=\"M18.56 5.44l.94 2.06.94-2.06 2.06-.94-2.06-.94-.94-2.06-.94 2.06-2.06.94zm-11 1L8.5 8.5l.94-2.06 2.06-.94-2.06-.94L8.5 2.5l-.94 2.06-2.06.94zm10 10l.94 2.06.94-2.06 2.06-.94-2.06-.94-.94-2.06-.94 2.06-2.06.94z\"/><path d=\"M17.41 7.96l-1.37-1.37c-.4-.4-.92-.59-1.43-.59-.52 0-1.04.2-1.43.59L10.3 9.45l-7.72 7.72c-.78.78-.78 2.05 0 2.83L4 21.41c.39.39.9.59 1.41.59.51 0 1.02-.2 1.41-.59l7.78-7.78 2.81-2.81c.8-.78.8-2.07 0-2.86zM5.41 20L4 18.59l7.72-7.72 1.47 1.35L5.41 20z\"/>\n",
              "  </svg>\n",
              "      </button>\n",
              "      \n",
              "  <style>\n",
              "    .colab-df-container {\n",
              "      display:flex;\n",
              "      flex-wrap:wrap;\n",
              "      gap: 12px;\n",
              "    }\n",
              "\n",
              "    .colab-df-convert {\n",
              "      background-color: #E8F0FE;\n",
              "      border: none;\n",
              "      border-radius: 50%;\n",
              "      cursor: pointer;\n",
              "      display: none;\n",
              "      fill: #1967D2;\n",
              "      height: 32px;\n",
              "      padding: 0 0 0 0;\n",
              "      width: 32px;\n",
              "    }\n",
              "\n",
              "    .colab-df-convert:hover {\n",
              "      background-color: #E2EBFA;\n",
              "      box-shadow: 0px 1px 2px rgba(60, 64, 67, 0.3), 0px 1px 3px 1px rgba(60, 64, 67, 0.15);\n",
              "      fill: #174EA6;\n",
              "    }\n",
              "\n",
              "    [theme=dark] .colab-df-convert {\n",
              "      background-color: #3B4455;\n",
              "      fill: #D2E3FC;\n",
              "    }\n",
              "\n",
              "    [theme=dark] .colab-df-convert:hover {\n",
              "      background-color: #434B5C;\n",
              "      box-shadow: 0px 1px 3px 1px rgba(0, 0, 0, 0.15);\n",
              "      filter: drop-shadow(0px 1px 2px rgba(0, 0, 0, 0.3));\n",
              "      fill: #FFFFFF;\n",
              "    }\n",
              "  </style>\n",
              "\n",
              "      <script>\n",
              "        const buttonEl =\n",
              "          document.querySelector('#df-d9ff6e8c-76ef-473b-831b-de1f06bc8aed button.colab-df-convert');\n",
              "        buttonEl.style.display =\n",
              "          google.colab.kernel.accessAllowed ? 'block' : 'none';\n",
              "\n",
              "        async function convertToInteractive(key) {\n",
              "          const element = document.querySelector('#df-d9ff6e8c-76ef-473b-831b-de1f06bc8aed');\n",
              "          const dataTable =\n",
              "            await google.colab.kernel.invokeFunction('convertToInteractive',\n",
              "                                                     [key], {});\n",
              "          if (!dataTable) return;\n",
              "\n",
              "          const docLinkHtml = 'Like what you see? Visit the ' +\n",
              "            '<a target=\"_blank\" href=https://colab.research.google.com/notebooks/data_table.ipynb>data table notebook</a>'\n",
              "            + ' to learn more about interactive tables.';\n",
              "          element.innerHTML = '';\n",
              "          dataTable['output_type'] = 'display_data';\n",
              "          await google.colab.output.renderOutput(dataTable, element);\n",
              "          const docLink = document.createElement('div');\n",
              "          docLink.innerHTML = docLinkHtml;\n",
              "          element.appendChild(docLink);\n",
              "        }\n",
              "      </script>\n",
              "    </div>\n",
              "  </div>\n",
              "  "
            ],
            "text/plain": [
              "   x1  x2  y\n",
              "0   0   0  0\n",
              "1   0   1  1\n",
              "2   1   0  1\n",
              "3   1   1  0"
            ]
          },
          "metadata": {},
          "execution_count": 92
        }
      ]
    },
    {
      "cell_type": "code",
      "source": [
        "features=['x1','x2']"
      ],
      "metadata": {
        "id": "TD9dP9Psp2yz"
      },
      "execution_count": 93,
      "outputs": []
    },
    {
      "cell_type": "code",
      "source": [
        "root=buildTree(x,features)"
      ],
      "metadata": {
        "id": "ErbEJ-AdqB6P"
      },
      "execution_count": 128,
      "outputs": []
    },
    {
      "cell_type": "code",
      "source": [
        "def predict(x,root):\n",
        "  if root.isLeaf:\n",
        "    return root.value\n",
        "  return predict(x,root.children[x[root.feature][0]])\n"
      ],
      "metadata": {
        "id": "GqMZ4-n-qGLS"
      },
      "execution_count": 130,
      "outputs": []
    },
    {
      "cell_type": "code",
      "source": [
        "xtest=pd.DataFrame([[1,1]])\n",
        "xtest.columns=['x1','x2']\n",
        "print(predict(xtest,root))\n",
        "\n",
        "xtest=pd.DataFrame([[1,0]])\n",
        "xtest.columns=['x1','x2']\n",
        "print(predict(xtest,root))"
      ],
      "metadata": {
        "colab": {
          "base_uri": "https://localhost:8080/"
        },
        "id": "-5iR4-LU39xM",
        "outputId": "a6393cfe-7449-44b8-bf24-2a104df7b4d8"
      },
      "execution_count": 133,
      "outputs": [
        {
          "output_type": "stream",
          "name": "stdout",
          "text": [
            "1\n",
            "0\n"
          ]
        }
      ]
    },
    {
      "cell_type": "code",
      "source": [
        ""
      ],
      "metadata": {
        "id": "aEuoumG04-Va"
      },
      "execution_count": null,
      "outputs": []
    }
  ]
}