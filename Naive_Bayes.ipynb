{
  "nbformat": 4,
  "nbformat_minor": 0,
  "metadata": {
    "colab": {
      "name": "Naive Bayes.ipynb",
      "provenance": [],
      "collapsed_sections": [],
      "authorship_tag": "ABX9TyOguuoLi2vAoSiB6xnPTYrd",
      "include_colab_link": true
    },
    "kernelspec": {
      "name": "python3",
      "display_name": "Python 3"
    },
    "language_info": {
      "name": "python"
    }
  },
  "cells": [
    {
      "cell_type": "markdown",
      "metadata": {
        "id": "view-in-github",
        "colab_type": "text"
      },
      "source": [
        "<a href=\"https://colab.research.google.com/github/BenMeehan/Foundational_Machine_Learning/blob/main/Naive_Bayes.ipynb\" target=\"_parent\"><img src=\"https://colab.research.google.com/assets/colab-badge.svg\" alt=\"Open In Colab\"/></a>"
      ]
    },
    {
      "cell_type": "code",
      "source": [
        "import pandas as pd\n",
        "import numpy as np"
      ],
      "metadata": {
        "id": "QCmZTJN-0d-7"
      },
      "execution_count": 4,
      "outputs": []
    },
    {
      "cell_type": "code",
      "execution_count": 32,
      "metadata": {
        "id": "M7VZooeOzwui"
      },
      "outputs": [],
      "source": [
        "def fit(X,Y):\n",
        "  result={}\n",
        "  classes=Y.unique()\n",
        "  for c in classes:\n",
        "    result[c]={}\n",
        "    for i in range(1,X.shape[1]+1):\n",
        "      result[c][i]={}\n",
        "      feature_values=df.iloc[:,i-1]\n",
        "      unique_values=feature_values.unique()\n",
        "      for j in unique_values:\n",
        "        result[c][i][j]=(feature_values[(Y==c)]==j).sum()\n",
        "\n",
        "    result[c][\"t\"]=(Y==c).sum()\n",
        "\n",
        "  result[\"total\"]=Y.count()\n",
        "  return result"
      ]
    },
    {
      "cell_type": "code",
      "source": [
        "df=pd.DataFrame({\"purity\":[10,8,4,5],\"thickness\":[4,1,3,1],\"result\":['A','B','C','C']})\n",
        "df"
      ],
      "metadata": {
        "id": "Mkd6DHZb1NQX",
        "colab": {
          "base_uri": "https://localhost:8080/",
          "height": 174
        },
        "outputId": "47b66489-cd80-4f1d-c6cb-3d66e14ab965"
      },
      "execution_count": 33,
      "outputs": [
        {
          "output_type": "execute_result",
          "data": {
            "text/html": [
              "\n",
              "  <div id=\"df-48afa6a4-0312-4e8b-aca2-d841954b3fd4\">\n",
              "    <div class=\"colab-df-container\">\n",
              "      <div>\n",
              "<style scoped>\n",
              "    .dataframe tbody tr th:only-of-type {\n",
              "        vertical-align: middle;\n",
              "    }\n",
              "\n",
              "    .dataframe tbody tr th {\n",
              "        vertical-align: top;\n",
              "    }\n",
              "\n",
              "    .dataframe thead th {\n",
              "        text-align: right;\n",
              "    }\n",
              "</style>\n",
              "<table border=\"1\" class=\"dataframe\">\n",
              "  <thead>\n",
              "    <tr style=\"text-align: right;\">\n",
              "      <th></th>\n",
              "      <th>purity</th>\n",
              "      <th>thickness</th>\n",
              "      <th>result</th>\n",
              "    </tr>\n",
              "  </thead>\n",
              "  <tbody>\n",
              "    <tr>\n",
              "      <th>0</th>\n",
              "      <td>10</td>\n",
              "      <td>4</td>\n",
              "      <td>A</td>\n",
              "    </tr>\n",
              "    <tr>\n",
              "      <th>1</th>\n",
              "      <td>8</td>\n",
              "      <td>1</td>\n",
              "      <td>B</td>\n",
              "    </tr>\n",
              "    <tr>\n",
              "      <th>2</th>\n",
              "      <td>4</td>\n",
              "      <td>3</td>\n",
              "      <td>C</td>\n",
              "    </tr>\n",
              "    <tr>\n",
              "      <th>3</th>\n",
              "      <td>5</td>\n",
              "      <td>1</td>\n",
              "      <td>C</td>\n",
              "    </tr>\n",
              "  </tbody>\n",
              "</table>\n",
              "</div>\n",
              "      <button class=\"colab-df-convert\" onclick=\"convertToInteractive('df-48afa6a4-0312-4e8b-aca2-d841954b3fd4')\"\n",
              "              title=\"Convert this dataframe to an interactive table.\"\n",
              "              style=\"display:none;\">\n",
              "        \n",
              "  <svg xmlns=\"http://www.w3.org/2000/svg\" height=\"24px\"viewBox=\"0 0 24 24\"\n",
              "       width=\"24px\">\n",
              "    <path d=\"M0 0h24v24H0V0z\" fill=\"none\"/>\n",
              "    <path d=\"M18.56 5.44l.94 2.06.94-2.06 2.06-.94-2.06-.94-.94-2.06-.94 2.06-2.06.94zm-11 1L8.5 8.5l.94-2.06 2.06-.94-2.06-.94L8.5 2.5l-.94 2.06-2.06.94zm10 10l.94 2.06.94-2.06 2.06-.94-2.06-.94-.94-2.06-.94 2.06-2.06.94z\"/><path d=\"M17.41 7.96l-1.37-1.37c-.4-.4-.92-.59-1.43-.59-.52 0-1.04.2-1.43.59L10.3 9.45l-7.72 7.72c-.78.78-.78 2.05 0 2.83L4 21.41c.39.39.9.59 1.41.59.51 0 1.02-.2 1.41-.59l7.78-7.78 2.81-2.81c.8-.78.8-2.07 0-2.86zM5.41 20L4 18.59l7.72-7.72 1.47 1.35L5.41 20z\"/>\n",
              "  </svg>\n",
              "      </button>\n",
              "      \n",
              "  <style>\n",
              "    .colab-df-container {\n",
              "      display:flex;\n",
              "      flex-wrap:wrap;\n",
              "      gap: 12px;\n",
              "    }\n",
              "\n",
              "    .colab-df-convert {\n",
              "      background-color: #E8F0FE;\n",
              "      border: none;\n",
              "      border-radius: 50%;\n",
              "      cursor: pointer;\n",
              "      display: none;\n",
              "      fill: #1967D2;\n",
              "      height: 32px;\n",
              "      padding: 0 0 0 0;\n",
              "      width: 32px;\n",
              "    }\n",
              "\n",
              "    .colab-df-convert:hover {\n",
              "      background-color: #E2EBFA;\n",
              "      box-shadow: 0px 1px 2px rgba(60, 64, 67, 0.3), 0px 1px 3px 1px rgba(60, 64, 67, 0.15);\n",
              "      fill: #174EA6;\n",
              "    }\n",
              "\n",
              "    [theme=dark] .colab-df-convert {\n",
              "      background-color: #3B4455;\n",
              "      fill: #D2E3FC;\n",
              "    }\n",
              "\n",
              "    [theme=dark] .colab-df-convert:hover {\n",
              "      background-color: #434B5C;\n",
              "      box-shadow: 0px 1px 3px 1px rgba(0, 0, 0, 0.15);\n",
              "      filter: drop-shadow(0px 1px 2px rgba(0, 0, 0, 0.3));\n",
              "      fill: #FFFFFF;\n",
              "    }\n",
              "  </style>\n",
              "\n",
              "      <script>\n",
              "        const buttonEl =\n",
              "          document.querySelector('#df-48afa6a4-0312-4e8b-aca2-d841954b3fd4 button.colab-df-convert');\n",
              "        buttonEl.style.display =\n",
              "          google.colab.kernel.accessAllowed ? 'block' : 'none';\n",
              "\n",
              "        async function convertToInteractive(key) {\n",
              "          const element = document.querySelector('#df-48afa6a4-0312-4e8b-aca2-d841954b3fd4');\n",
              "          const dataTable =\n",
              "            await google.colab.kernel.invokeFunction('convertToInteractive',\n",
              "                                                     [key], {});\n",
              "          if (!dataTable) return;\n",
              "\n",
              "          const docLinkHtml = 'Like what you see? Visit the ' +\n",
              "            '<a target=\"_blank\" href=https://colab.research.google.com/notebooks/data_table.ipynb>data table notebook</a>'\n",
              "            + ' to learn more about interactive tables.';\n",
              "          element.innerHTML = '';\n",
              "          dataTable['output_type'] = 'display_data';\n",
              "          await google.colab.output.renderOutput(dataTable, element);\n",
              "          const docLink = document.createElement('div');\n",
              "          docLink.innerHTML = docLinkHtml;\n",
              "          element.appendChild(docLink);\n",
              "        }\n",
              "      </script>\n",
              "    </div>\n",
              "  </div>\n",
              "  "
            ],
            "text/plain": [
              "   purity  thickness result\n",
              "0      10          4      A\n",
              "1       8          1      B\n",
              "2       4          3      C\n",
              "3       5          1      C"
            ]
          },
          "metadata": {},
          "execution_count": 33
        }
      ]
    },
    {
      "cell_type": "code",
      "source": [
        "d=fit(df[['purity','thickness']],df['result'])\n",
        "d"
      ],
      "metadata": {
        "colab": {
          "base_uri": "https://localhost:8080/"
        },
        "id": "lzkzf0aZ1gfP",
        "outputId": "06631459-e11c-4dc1-8887-8ada8eff3a3b"
      },
      "execution_count": 46,
      "outputs": [
        {
          "output_type": "execute_result",
          "data": {
            "text/plain": [
              "{'A': {1: {4: 0, 5: 0, 8: 0, 10: 1}, 2: {1: 0, 3: 0, 4: 1}, 't': 1},\n",
              " 'B': {1: {4: 0, 5: 0, 8: 1, 10: 0}, 2: {1: 1, 3: 0, 4: 0}, 't': 1},\n",
              " 'C': {1: {4: 1, 5: 1, 8: 0, 10: 0}, 2: {1: 1, 3: 1, 4: 0}, 't': 2},\n",
              " 'total': 4}"
            ]
          },
          "metadata": {},
          "execution_count": 46
        }
      ]
    },
    {
      "cell_type": "code",
      "source": [
        "def pred(dt,test):\n",
        "  predic=[]\n",
        "  for x in test:\n",
        "    o=getProbability(x,dt)\n",
        "    predic.append(o)\n",
        "  return predic    "
      ],
      "metadata": {
        "id": "ViYWPIQj1hMo"
      },
      "execution_count": 87,
      "outputs": []
    },
    {
      "cell_type": "code",
      "source": [
        "def getProbability(x,dt):\n",
        "  best_p=None\n",
        "  best_class=None\n",
        "  for c in dt.keys():\n",
        "    if c=='total':\n",
        "      continue\n",
        "    val=prob(x,c,dt)\n",
        "    if best_p==None or val>best_p:\n",
        "      best_p=val \n",
        "      best_class=c \n",
        "  return (best_p,best_class)"
      ],
      "metadata": {
        "id": "XXGzelhTMbab"
      },
      "execution_count": 88,
      "outputs": []
    },
    {
      "cell_type": "code",
      "source": [
        "def prob(x,c,dt):\n",
        "  op=dt[c]['t']/dt['total']\n",
        "  for j in range(1,len(dt[c].keys())):\n",
        "    num=dt[c][j][x[j-1]]+1\n",
        "    denom=dt[c]['t']+len(dt[c][j].keys())\n",
        "    op*=(num/denom)\n",
        "  return op"
      ],
      "metadata": {
        "id": "285hIt8QM838"
      },
      "execution_count": 96,
      "outputs": []
    },
    {
      "cell_type": "code",
      "source": [
        "pred(d,[[4,3],[8,4]])"
      ],
      "metadata": {
        "colab": {
          "base_uri": "https://localhost:8080/"
        },
        "id": "pKt6po3aOe2b",
        "outputId": "97aba7fe-0970-4670-e74f-c0a27d343427"
      },
      "execution_count": 95,
      "outputs": [
        {
          "output_type": "stream",
          "name": "stdout",
          "text": [
            "A 1 [4, 3]\n",
            "A 2 [4, 3]\n",
            "B 1 [4, 3]\n",
            "B 2 [4, 3]\n",
            "C 1 [4, 3]\n",
            "C 2 [4, 3]\n",
            "(0.06666666666666667, 'C')\n",
            "A 1 [8, 4]\n",
            "A 2 [8, 4]\n",
            "B 1 [8, 4]\n",
            "B 2 [8, 4]\n",
            "C 1 [8, 4]\n",
            "C 2 [8, 4]\n",
            "(0.025, 'A')\n"
          ]
        },
        {
          "output_type": "execute_result",
          "data": {
            "text/plain": [
              "[(0.06666666666666667, 'C'), (0.025, 'A')]"
            ]
          },
          "metadata": {},
          "execution_count": 95
        }
      ]
    },
    {
      "cell_type": "code",
      "source": [
        "# Guassian density fn for naive bayes"
      ],
      "metadata": {
        "id": "526oDg2LPN1l"
      },
      "execution_count": 97,
      "outputs": []
    },
    {
      "cell_type": "code",
      "source": [
        "# multinomial naive bayes  -  text classification"
      ],
      "metadata": {
        "id": "BD7-tNBfXsMY"
      },
      "execution_count": 98,
      "outputs": []
    },
    {
      "cell_type": "code",
      "source": [
        ""
      ],
      "metadata": {
        "id": "AOUV4HKSYqC7"
      },
      "execution_count": null,
      "outputs": []
    }
  ]
}